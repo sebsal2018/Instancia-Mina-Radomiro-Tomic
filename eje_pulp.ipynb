{
  "nbformat": 4,
  "nbformat_minor": 0,
  "metadata": {
    "colab": {
      "name": "Untitled1.ipynb",
      "provenance": [],
      "authorship_tag": "ABX9TyMaUNpN7Xa2xqMDQeCt7oun",
      "include_colab_link": true
    },
    "kernelspec": {
      "name": "python3",
      "display_name": "Python 3"
    }
  },
  "cells": [
    {
      "cell_type": "markdown",
      "metadata": {
        "id": "view-in-github",
        "colab_type": "text"
      },
      "source": [
        "<a href=\"https://colab.research.google.com/github/sebsal2018/Instancia-Mina-Radomiro-Tomic/blob/master/eje_pulp.ipynb\" target=\"_parent\"><img src=\"https://colab.research.google.com/assets/colab-badge.svg\" alt=\"Open In Colab\"/></a>"
      ]
    },
    {
      "cell_type": "code",
      "metadata": {
        "id": "qKMGvGYDGGsb",
        "colab_type": "code",
        "colab": {
          "base_uri": "https://localhost:8080/",
          "height": 119
        },
        "outputId": "5a4ed6b0-3a89-40b5-9a7f-ecd7730f4dc7"
      },
      "source": [
        "!pip install pulp"
      ],
      "execution_count": 1,
      "outputs": [
        {
          "output_type": "stream",
          "text": [
            "Collecting pulp\n",
            "\u001b[?25l  Downloading https://files.pythonhosted.org/packages/41/34/757c88c320f80ce602199603afe63aed1e0bc11180b9a9fb6018fb2ce7ef/PuLP-2.1-py3-none-any.whl (40.6MB)\n",
            "\u001b[K     |████████████████████████████████| 40.6MB 1.3MB/s \n",
            "\u001b[?25hRequirement already satisfied: pyparsing>=2.0.1 in /usr/local/lib/python3.6/dist-packages (from pulp) (2.4.7)\n",
            "Installing collected packages: pulp\n",
            "Successfully installed pulp-2.1\n"
          ],
          "name": "stdout"
        }
      ]
    },
    {
      "cell_type": "code",
      "metadata": {
        "id": "iRA8iEUbGwTf",
        "colab_type": "code",
        "colab": {
          "base_uri": "https://localhost:8080/",
          "height": 85
        },
        "outputId": "19ea626c-ae23-4ccb-cff8-966ca5e01317"
      },
      "source": [
        "import pulp as p \n",
        "\n",
        "#creal el problema\n",
        "problema = p.LpProblem(\"nombre de  mi problema\", p.LpMaximize) #o p.LpMinimize para minimizar \n",
        "\n",
        "#Definir variables continuas =  Continuous, entera = Integer , binaria = Binary, lowBound es el limite inferior\n",
        "x = p.LpVariable('nombre x', lowBound=0, cat='Continuous') #x>=0\n",
        "y = p.LpVariable('nombre y', lowBound=2, cat='Continuous') #Y>=2\n",
        "\n",
        "# funcion objetivo\n",
        "problema += 4 * x + 3 * y, \"nombre funcion objetivo\" #Z=4x+3y\n",
        "\n",
        "# Restricciones\n",
        "problema += 2 * y <= 25 - x #2y<=25-x\n",
        "problema += 4 * y >= 2 * x - 8 #4y >=2x-8\n",
        "problema += y <= 2 * x - 5 #y<=2x-5\n",
        "\n",
        "#Reolver\n",
        "problema.solve()\n",
        "\n",
        "#imprimir valores en pantalla\n",
        "for variable in problema.variables():\n",
        "    print( \"{} = {}\".format(variable.name, variable.varValue))"
      ],
      "execution_count": 2,
      "outputs": [
        {
          "output_type": "stream",
          "text": [
            "nombre_x = 14.5\n",
            "nombre_y = 5.25\n"
          ],
          "name": "stdout"
        },
        {
          "output_type": "stream",
          "text": [
            "/usr/local/lib/python3.6/dist-packages/pulp/pulp.py:1114: UserWarning: Spaces are not permitted in the name. Converted to '_'\n",
            "  warnings.warn(\"Spaces are not permitted in the name. Converted to '_'\")\n"
          ],
          "name": "stderr"
        }
      ]
    },
    {
      "cell_type": "code",
      "metadata": {
        "id": "2AHbEL8MIdKZ",
        "colab_type": "code",
        "colab": {
          "base_uri": "https://localhost:8080/",
          "height": 51
        },
        "outputId": "eee69081-eb94-42c4-a4ab-594e6268938e"
      },
      "source": [
        "import pulp as p\n",
        "import numpy as np\n",
        "\n",
        "var=range(2)\n",
        "rest=range(5)\n",
        "C=(4,3)\n",
        "M=((-1,-2),(-2,4),(2,-1),(1,0),(0,1))\n",
        "b=(-25,-8,5,0,2)\n",
        "\n",
        "problema2 = p.LpProblem(\"problema2\", p.LpMaximize) #o p.LpMinimize para minimizar \n",
        "\n",
        "#Definir variables continuas =  Continuous, entera = Integer , binaria = Binary, lowBound es el limite inferior\n",
        "x = p.LpVariable.dicts(\"X\",((i) for i in var),lowBound=0,cat='Continuous')\n",
        "\n",
        "\n",
        "# funcion objetivo\n",
        "problema2 += p.lpSum(C[i]*x[i] for i in var), \"nombre funcion objetivo\" #Z=4x+3y\n",
        "\n",
        "#restricciones\n",
        "\n",
        "for j in rest:\n",
        "  problema2 += p.lpSum(M[j][i]*x[i] for i in var) >= b[j]\n",
        "\n",
        "problema2.solve()\n",
        "\n",
        "for variable in problema2.variables():\n",
        "    print( \"{} = {}\".format(variable.name, variable.varValue))"
      ],
      "execution_count": 17,
      "outputs": [
        {
          "output_type": "stream",
          "text": [
            "X_0 = 14.5\n",
            "X_1 = 5.25\n"
          ],
          "name": "stdout"
        }
      ]
    },
    {
      "cell_type": "code",
      "metadata": {
        "id": "lHUD66Y0LT8n",
        "colab_type": "code",
        "colab": {
          "base_uri": "https://localhost:8080/",
          "height": 102
        },
        "outputId": "e6a8af51-931d-4f21-df0d-537343409b3c"
      },
      "source": [
        "G=(1,2,3,4,5,6,7)\n",
        "for i in range(5\n",
        "               ):\n",
        "  print(G[i])"
      ],
      "execution_count": 14,
      "outputs": [
        {
          "output_type": "stream",
          "text": [
            "1\n",
            "2\n",
            "3\n",
            "4\n",
            "5\n"
          ],
          "name": "stdout"
        }
      ]
    }
  ]
}